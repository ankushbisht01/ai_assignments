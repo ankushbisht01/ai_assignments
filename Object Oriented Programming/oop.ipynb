{
 "cells": [
  {
   "cell_type": "code",
   "execution_count": 13,
   "metadata": {},
   "outputs": [
    {
     "name": "stdout",
     "output_type": "stream",
     "text": [
      "Hello, My name is Rahul\n",
      "Hello, My name is Prince\n",
      "3. Abhijeet\n"
     ]
    }
   ],
   "source": [
    "class Student:\n",
    "\n",
    "    counter = 1 \n",
    "\n",
    "    def __init__(self , new_name , new_rollno):\n",
    "        self.name = new_name\n",
    "        self.rol_no = Student.counter\n",
    "        Student.counter += 1\n",
    "\n",
    "\n",
    "    def intro(self):\n",
    "        print(f\"Hello, My name is {self.name}\")\n",
    "\n",
    "    def __str__(self):\n",
    "        return f\"{self.rol_no}. {self.name}\"\n",
    "    \n",
    "    \n",
    "s1 = Student(\"Rahul\" , 1 )\n",
    "s1.intro()\n",
    "\n",
    "\n",
    "s2 = Student(\"Prince\" , 2)\n",
    "s2.intro()    #Student.intro(s2)\n",
    "\n",
    "\n",
    "s3 = Student(\"Abhijeet\",5)\n",
    "print(s3)\n"
   ]
  },
  {
   "cell_type": "code",
   "execution_count": 7,
   "metadata": {},
   "outputs": [
    {
     "name": "stdout",
     "output_type": "stream",
     "text": [
      "Acc 1 has 150\n",
      "Acc 2 has 100\n"
     ]
    }
   ],
   "source": [
    "#Account class \n",
    "\n",
    "class Account:\n",
    "\n",
    "    counter = 1\n",
    "\n",
    "    def __init__(self , opening_balance = 0):\n",
    "        self.__balance = opening_balance \n",
    "        self.id = Account.counter\n",
    "        Account.counter += 1\n",
    "        self.no_of_tranc =0\n",
    "        self.max_tranc = 2\n",
    "\n",
    "    def deposite(self, amount ):\n",
    "        if amount > 0 and self.no_of_tranc < self.max_tranc:\n",
    "            self.__balance += amount \n",
    "            self.no_of_tranc += 1\n",
    "\n",
    "    def withdraw(self , amount):\n",
    "        if amount > 0 and amount <= self.__balance and self.no_of_tranc < self.max_tranc:\n",
    "            self.__balance -= amount\n",
    "            self.no_of_tranc += 1\n",
    "\n",
    "    def __str__(self):\n",
    "        return f\"Acc {self.id} has {self.__balance}\"\n",
    "\n",
    "\n",
    "\n",
    "class SavingAccount(Account ):\n",
    "    pass\n",
    "\n",
    "class CurrentAccount(Account):\n",
    "    \n",
    "\n",
    "    def __init__(self):\n",
    "        super().__init__()\n",
    "        self.max_tranc = 3\n",
    "\n",
    "    \n",
    "\n",
    "\n",
    "\n",
    "\n",
    "s1 = SavingAccount()\n",
    "s1.deposite(100)\n",
    "s1.deposite(50)\n",
    "s1.withdraw(100)\n",
    "print(s1)\n",
    "\n",
    "c1 = CurrentAccount()\n",
    "c1.deposite(100)\n",
    "c1.deposite(100)\n",
    "c1.withdraw(100)\n",
    "c1.withdraw(50)\n",
    "print(c1)\n"
   ]
  },
  {
   "cell_type": "code",
   "execution_count": null,
   "metadata": {},
   "outputs": [],
   "source": []
  },
  {
   "cell_type": "code",
   "execution_count": null,
   "metadata": {},
   "outputs": [],
   "source": []
  },
  {
   "cell_type": "code",
   "execution_count": null,
   "metadata": {},
   "outputs": [],
   "source": []
  },
  {
   "cell_type": "code",
   "execution_count": null,
   "metadata": {},
   "outputs": [],
   "source": []
  },
  {
   "cell_type": "code",
   "execution_count": null,
   "metadata": {},
   "outputs": [],
   "source": []
  }
 ],
 "metadata": {
  "kernelspec": {
   "display_name": "Python 3",
   "language": "python",
   "name": "python3"
  },
  "language_info": {
   "codemirror_mode": {
    "name": "ipython",
    "version": 3
   },
   "file_extension": ".py",
   "mimetype": "text/x-python",
   "name": "python",
   "nbconvert_exporter": "python",
   "pygments_lexer": "ipython3",
   "version": "3.12.4"
  }
 },
 "nbformat": 4,
 "nbformat_minor": 2
}
