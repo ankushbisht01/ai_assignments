{
 "cells": [
  {
   "cell_type": "markdown",
   "id": "f69c866d",
   "metadata": {},
   "source": [
    "1. Write a function that inputs a number and prints the multiplication table of that number"
   ]
  },
  {
   "cell_type": "code",
   "execution_count": 17,
   "id": "b6183bfc",
   "metadata": {},
   "outputs": [
    {
     "name": "stdout",
     "output_type": "stream",
     "text": [
      "8 x 1 = 8\n",
      "8 x 2 = 16\n",
      "8 x 3 = 24\n",
      "8 x 4 = 32\n",
      "8 x 5 = 40\n",
      "8 x 6 = 48\n",
      "8 x 7 = 56\n",
      "8 x 8 = 64\n",
      "8 x 9 = 72\n",
      "8 x 10 = 80\n"
     ]
    }
   ],
   "source": [
    "def print_multiplication(n:int):\n",
    "    for i in range(1 , 11):\n",
    "        print(f\"{n} x {i} = {n*i}\")\n",
    "\n",
    "print_multiplication(8)"
   ]
  },
  {
   "cell_type": "markdown",
   "id": "de8b23ff",
   "metadata": {},
   "source": [
    "2. Write a program to print twin primes  less than 1000. If two consecutive odd numbers are both prime then they are known as twin primes"
   ]
  },
  {
   "cell_type": "code",
   "execution_count": 18,
   "id": "ceae8335",
   "metadata": {},
   "outputs": [
    {
     "name": "stdout",
     "output_type": "stream",
     "text": [
      "5 , 3 are twin primes.\n",
      "7 , 5 are twin primes.\n",
      "13 , 11 are twin primes.\n",
      "19 , 17 are twin primes.\n",
      "31 , 29 are twin primes.\n",
      "43 , 41 are twin primes.\n",
      "61 , 59 are twin primes.\n",
      "73 , 71 are twin primes.\n",
      "103 , 101 are twin primes.\n",
      "109 , 107 are twin primes.\n",
      "139 , 137 are twin primes.\n",
      "151 , 149 are twin primes.\n",
      "181 , 179 are twin primes.\n",
      "193 , 191 are twin primes.\n",
      "199 , 197 are twin primes.\n",
      "229 , 227 are twin primes.\n",
      "241 , 239 are twin primes.\n",
      "271 , 269 are twin primes.\n",
      "283 , 281 are twin primes.\n",
      "313 , 311 are twin primes.\n",
      "349 , 347 are twin primes.\n",
      "421 , 419 are twin primes.\n",
      "433 , 431 are twin primes.\n",
      "463 , 461 are twin primes.\n",
      "523 , 521 are twin primes.\n",
      "571 , 569 are twin primes.\n",
      "601 , 599 are twin primes.\n",
      "619 , 617 are twin primes.\n",
      "643 , 641 are twin primes.\n",
      "661 , 659 are twin primes.\n",
      "811 , 809 are twin primes.\n",
      "823 , 821 are twin primes.\n",
      "829 , 827 are twin primes.\n",
      "859 , 857 are twin primes.\n",
      "883 , 881 are twin primes.\n"
     ]
    }
   ],
   "source": [
    "def check_prime(n:int):\n",
    "    for i in range(2 , int(n**(1/2))+1):\n",
    "        if n % i == 0:\n",
    "            return False \n",
    "    return  True \n",
    "\n",
    "\n",
    "primes = []\n",
    "for i in range(2, 1000):\n",
    "    if check_prime(i):\n",
    "        if (i-2) in primes:\n",
    "            print(f\"{i} , {i-2} are twin primes.\")\n",
    "        primes.append(i)\n",
    "\n",
    "    "
   ]
  },
  {
   "cell_type": "markdown",
   "id": "15ff2800",
   "metadata": {},
   "source": [
    "3. Write a program to find out the prime factors of a number. Example: prime factors of 56 - 2, 2, 2, 7"
   ]
  },
  {
   "cell_type": "code",
   "execution_count": 16,
   "id": "76e8b6b0",
   "metadata": {},
   "outputs": [
    {
     "name": "stdout",
     "output_type": "stream",
     "text": [
      "19 "
     ]
    }
   ],
   "source": [
    "n = int(input(\"enter the number whose factors you want: \"))\n",
    "\n",
    "while( n % 2 == 0):\n",
    "    print(\"2 \" , end=\"\")\n",
    "    n = n//2\n",
    "\n",
    "for i in range(3, n+1 , 2):\n",
    "    while (n % i == 0 ):\n",
    "        print(f\"{i} \" , end=\"\")\n",
    "        n = n /i\n"
   ]
  },
  {
   "cell_type": "markdown",
   "id": "de626df7",
   "metadata": {},
   "source": [
    "4. Write a program to implement these formulae of permutations and combinations. \n",
    "Number of permutations of n objects taken r at a time: p(n, r) = n! / (n-r)!.  Number of \n",
    "combinations of n objects taken r at a time is: c(n, r) = n! / (r!*(n-r)!) = p(n,r) / r!"
   ]
  },
  {
   "cell_type": "code",
   "execution_count": 23,
   "id": "7292a897",
   "metadata": {},
   "outputs": [
    {
     "name": "stdout",
     "output_type": "stream",
     "text": [
      "p(n,r) = 90.0 and c(n,r) = 45.0\n"
     ]
    }
   ],
   "source": [
    "preComputed = [0]*100\n",
    "def get_factorial(n):\n",
    "    if preComputed[n] != 0:\n",
    "        return preComputed[n]\n",
    "    factorail = 1\n",
    "    for i in range(1 , n+1):\n",
    "        factorail *= i\n",
    "    preComputed[n] = factorail\n",
    "    return factorail\n",
    "\n",
    "\n",
    "n = 10 \n",
    "r = 2 \n",
    "p_n_r = get_factorial(n) / get_factorial(n-r)\n",
    "\n",
    "c_n_r = p_n_r / get_factorial(r)\n",
    "\n",
    "print(f\"p(n,r) = {p_n_r} and c(n,r) = {c_n_r}\")\n"
   ]
  },
  {
   "cell_type": "markdown",
   "id": "a4de1da4",
   "metadata": {},
   "source": [
    "5. Write a function that converts a decimal number to binary number"
   ]
  },
  {
   "cell_type": "code",
   "execution_count": 28,
   "id": "0ce566c8",
   "metadata": {},
   "outputs": [
    {
     "data": {
      "text/plain": [
       "'1000'"
      ]
     },
     "execution_count": 28,
     "metadata": {},
     "output_type": "execute_result"
    }
   ],
   "source": [
    "def decimal_to_binary(n):\n",
    "    result = \"\"\n",
    "    while (n > 0):\n",
    "        remainder = n%2 \n",
    "        result += str(remainder) \n",
    "        n = n //2\n",
    "    return result[::-1]\n",
    "\n",
    "\n",
    "decimal_to_binary(8)"
   ]
  },
  {
   "cell_type": "markdown",
   "id": "4b6b3a1a",
   "metadata": {},
   "source": [
    "6. Write a function cubesum() that accepts an integer and returns the sum of the cubes of \n",
    "individual digits of that number. Use this function to make functions PrintArmstrong() and \n",
    "isArmstrong() to print Armstrong numbers and to find whether is an Armstrong number."
   ]
  },
  {
   "cell_type": "code",
   "execution_count": 33,
   "id": "4d6d03cb",
   "metadata": {},
   "outputs": [
    {
     "name": "stdout",
     "output_type": "stream",
     "text": [
      "153 is armstrong number\n"
     ]
    }
   ],
   "source": [
    "def cubesum(n):\n",
    "    result = 0 \n",
    "    while(n > 0 ):\n",
    "        digit = n % 10 \n",
    "        result += digit**3\n",
    "        n = n // 10 \n",
    "    return result \n",
    "\n",
    "def isArmstrong(n):\n",
    "    if n == cubesum(n):\n",
    "        print(f\"{n} is armstrong number\")\n",
    "    else:\n",
    "        print(f\"{n} is not an armstrong number\")\n",
    "\n",
    "isArmstrong(153)"
   ]
  },
  {
   "cell_type": "markdown",
   "id": "08e81d6d",
   "metadata": {},
   "source": [
    "Write a function prodDigits() that inputs a number and returns the product of digits of that \n",
    "number."
   ]
  },
  {
   "cell_type": "code",
   "execution_count": 35,
   "id": "cfb612db",
   "metadata": {},
   "outputs": [
    {
     "data": {
      "text/plain": [
       "24"
      ]
     },
     "execution_count": 35,
     "metadata": {},
     "output_type": "execute_result"
    }
   ],
   "source": [
    "def prodDigits(n):\n",
    "    result = 1\n",
    "\n",
    "    while( n > 0 ):\n",
    "        digit = n % 10 \n",
    "        result *= digit\n",
    "        n = n //10\n",
    "    return result\n",
    "\n",
    "\n",
    "prodDigits(1234)"
   ]
  },
  {
   "cell_type": "markdown",
   "id": "7ac7fbb3",
   "metadata": {},
   "source": [
    "If all digits of a number n are multiplied by each other repeating with the product, the one  <br>\n",
    "digit number obtained at last is called the multiplicative digital root of n. The number of <br>\n",
    "times digits need to be multiplied to reach one digit is called the multiplicative <br>\n",
    "persistance of n. <br>\n",
    "Example: 86 -> 48 -> 32 -> 6 (MDR 6, MPersistence 3) <br>\n",
    "               341 -> 12->2           (MDR 2, MPersistence 2) <br>\n",
    " Using the function prodDigits() of previous exercise write functions MDR() and  <br>\n",
    "MPersistence() that input a number and return its multiplicative digital root and <br>\n",
    "multiplicative persistence respectively <br>"
   ]
  },
  {
   "cell_type": "code",
   "execution_count": 53,
   "id": "335b52ba",
   "metadata": {},
   "outputs": [
    {
     "name": "stdout",
     "output_type": "stream",
     "text": [
      " 86 ==>  48 ==>  32 ==>  6\n",
      "MPersistence 3\n",
      " 341 ==>  12 ==>  2\n",
      "MPersistence 2\n"
     ]
    }
   ],
   "source": [
    "def MDR(n):\n",
    "    count = 0\n",
    "    while (n > 10):\n",
    "        print(f\" {n} ==> \" , end=\"\" )\n",
    "        n = prodDigits(n)\n",
    "        count +=1 \n",
    "    print(f\" {n}\"  )\n",
    "    print(f\"MPersistence {count}\")\n",
    "        \n",
    "MDR(86)\n",
    "MDR(341)"
   ]
  },
  {
   "cell_type": "markdown",
   "id": "e69135c2",
   "metadata": {},
   "source": [
    " 9. Write a function sumPdivisors() that finds the sum of proper divisors of a number. Proper \n",
    "divisors of a number are those numbers by which the number is divisible, except the \n",
    "number itself.  For example proper divisors of 36 are 1, 2, 3, 4, 6, 9, 18"
   ]
  },
  {
   "cell_type": "code",
   "execution_count": 58,
   "id": "c5c55fa7",
   "metadata": {},
   "outputs": [
    {
     "data": {
      "text/plain": [
       "55"
      ]
     },
     "execution_count": 58,
     "metadata": {},
     "output_type": "execute_result"
    }
   ],
   "source": [
    "def sumPdivisors(n):\n",
    "    result = 0 \n",
    "    for i in range(1 , n):\n",
    "        if n%i == 0:\n",
    "            result+=i\n",
    "    return result\n",
    "\n",
    "sumPdivisors(36)\n"
   ]
  },
  {
   "cell_type": "markdown",
   "id": "71352511",
   "metadata": {},
   "source": [
    " 10. A number is called perfect if the sum of proper divisors of that number is equal to the \n",
    "number. For example 28 is perfect number, since 1+2+4+7+14=28. Write a program to \n",
    "print all the perfect numbers in a given range"
   ]
  },
  {
   "cell_type": "code",
   "execution_count": 61,
   "id": "9bb94b12",
   "metadata": {},
   "outputs": [
    {
     "name": "stdout",
     "output_type": "stream",
     "text": [
      "28 is a prefect number\n"
     ]
    }
   ],
   "source": [
    "def checkPrefect(n):\n",
    "    if sumPdivisors(n) == n:\n",
    "        print(f\"{n} is a prefect number\")\n",
    "    else:\n",
    "        print(f\"{n} is not a prefect number\")\n",
    "\n",
    "checkPrefect(28)"
   ]
  },
  {
   "cell_type": "markdown",
   "id": "36e4cd94",
   "metadata": {},
   "source": [
    " Two different numbers are called amicable numbers if the sum of the proper divisors of  <br>\n",
    "each is equal to the other number. For example 220 and 284 are amicable numbers. <br>\n",
    "Sum of proper divisors of 220 = 1+2+4+5+10+11+20+22+44+55+110 = 284 <br>\n",
    " Sum of proper divisors of 284 = 1+2+4+71+142 = 220 <br>\n",
    " Write a function to print pairs of amicable numbers in a range <br>"
   ]
  },
  {
   "cell_type": "code",
   "execution_count": 64,
   "id": "b201e5ea",
   "metadata": {},
   "outputs": [
    {
     "name": "stdout",
     "output_type": "stream",
     "text": [
      "284 and 220 are amicable number\n"
     ]
    }
   ],
   "source": [
    "def check_amicable(n , m ):\n",
    "    if sumPdivisors(n) == m and sumPdivisors(m) == n :\n",
    "        print(f\"{n} and {m} are amicable number\")\n",
    "    else:\n",
    "        print(f\"{n} and {m} are not amicable number\")\n",
    "\n",
    "check_amicable(284 , 220)"
   ]
  },
  {
   "cell_type": "markdown",
   "id": "deb2454d",
   "metadata": {},
   "source": [
    "12. Write a program which can filter odd numbers in a list by using filter function"
   ]
  },
  {
   "cell_type": "code",
   "execution_count": 69,
   "id": "6b336f64",
   "metadata": {},
   "outputs": [
    {
     "name": "stdout",
     "output_type": "stream",
     "text": [
      "[1, 7, 15, 35]\n"
     ]
    }
   ],
   "source": [
    "numbers = [ 1 , 2, 6 , 7 , 12 , 15 , 35]\n",
    "\n",
    "result = filter(lambda x: x%2 == 1 , numbers)\n",
    "print(list(result))"
   ]
  },
  {
   "cell_type": "markdown",
   "id": "e52d0cfc",
   "metadata": {},
   "source": [
    "13. Write a program which can map() to make a list whose elements are cube of elements in \n",
    "a given list"
   ]
  },
  {
   "cell_type": "code",
   "execution_count": 72,
   "id": "338fdc38",
   "metadata": {},
   "outputs": [
    {
     "data": {
      "text/plain": [
       "[1, 8, 216, 343, 1728, 3375, 42875]"
      ]
     },
     "execution_count": 72,
     "metadata": {},
     "output_type": "execute_result"
    }
   ],
   "source": [
    "list(map(lambda x: x**3 , numbers))"
   ]
  },
  {
   "cell_type": "markdown",
   "id": "317584b0",
   "metadata": {},
   "source": [
    "13. Write a program which can map() to make a list whose elements are cube of elements in a given list"
   ]
  },
  {
   "cell_type": "code",
   "execution_count": 74,
   "id": "8341b8ff",
   "metadata": {},
   "outputs": [
    {
     "data": {
      "text/plain": [
       "[6, 12, 18]"
      ]
     },
     "execution_count": 74,
     "metadata": {},
     "output_type": "execute_result"
    }
   ],
   "source": [
    "def get_even_cubes(n):\n",
    "    evens = list(filter( lambda x: x%2 == 0 , n ))\n",
    "    cubes = list(map(lambda x: x*3 , evens) )\n",
    "\n",
    "    return cubes\n",
    "\n",
    "array = [1 , 2 , 3 ,4 , 5 , 6]\n",
    "\n",
    "get_even_cubes(array)"
   ]
  },
  {
   "cell_type": "code",
   "execution_count": null,
   "id": "50ab54fa",
   "metadata": {},
   "outputs": [],
   "source": []
  }
 ],
 "metadata": {
  "kernelspec": {
   "display_name": "Python 3",
   "language": "python",
   "name": "python3"
  },
  "language_info": {
   "codemirror_mode": {
    "name": "ipython",
    "version": 3
   },
   "file_extension": ".py",
   "mimetype": "text/x-python",
   "name": "python",
   "nbconvert_exporter": "python",
   "pygments_lexer": "ipython3",
   "version": "3.13.0"
  }
 },
 "nbformat": 4,
 "nbformat_minor": 5
}
