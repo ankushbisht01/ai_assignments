{
 "cells": [
  {
   "cell_type": "code",
   "execution_count": 15,
   "metadata": {},
   "outputs": [],
   "source": [
    "#import the dna dataset from dna.mat\n",
    "import scipy.io\n",
    "import numpy as np\n",
    "import matplotlib.pyplot as plt\n",
    "import matplotlib.patches as mpatches\n",
    "import matplotlib.lines as mlines"
   ]
  },
  {
   "cell_type": "code",
   "execution_count": 16,
   "metadata": {},
   "outputs": [],
   "source": [
    "data = scipy.io.loadmat('../Datasets/adult.mat')"
   ]
  },
  {
   "cell_type": "code",
   "execution_count": 17,
   "metadata": {},
   "outputs": [],
   "source": [
    "X = data[\"data\"]\n",
    "Y = data[\"target\"]\n"
   ]
  },
  {
   "cell_type": "code",
   "execution_count": 21,
   "metadata": {},
   "outputs": [
    {
     "name": "stdout",
     "output_type": "stream",
     "text": [
      "The dimension of data is  (48842, 123)\n",
      "The number of features in the training data is  123\n",
      "The number of labels in the training data is  2\n"
     ]
    }
   ],
   "source": [
    "print(\"The dimension of data is \", X.shape)\n",
    "print(\"The number of features in the training data is \", X.shape[1])\n",
    "print(\"The number of labels in the training data is \", np.unique(Y).size)"
   ]
  },
  {
   "cell_type": "code",
   "execution_count": 172,
   "metadata": {},
   "outputs": [],
   "source": [
    "def classifier(train_data , train_target , test_data , test_target ):\n",
    "\n",
    "   \n",
    "\n",
    "\n",
    "\n",
    "    means = []\n",
    "    class_A = train_data[train_target == 1]\n",
    "    class_B = train_data[train_target == -1]\n",
    "\n",
    "    \n",
    "\n",
    "    class_A_mean = np.mean(class_A, axis = 0)\n",
    "    class_B_mean = np.mean(class_B, axis = 0)\n",
    "\n",
    "    means.append(class_A_mean)\n",
    "    means.append(class_B_mean)\n",
    "\n",
    "\n",
    "    \n",
    "\n",
    "    means.append(class_A_mean)\n",
    "    means.append(class_B_mean)\n",
    "\n",
    "    \n",
    "    \n",
    "    \n",
    "    dist1 = np.sqrt(np.sum(np.square(test_data - means[0]), axis = 1)).flatten()\n",
    "    dist2 = np.sqrt(np.sum(np.square(test_data - means[1]), axis = 1)).flatten()\n",
    "\n",
    "    dist1 = np.array(dist1).ravel()\n",
    "    dist2 = np.array(dist2).ravel()\n",
    "\n",
    "    \n",
    "\n",
    "    predicted = np.zeros(test_target.shape)\n",
    "    predicted[dist1 > dist2] = 1\n",
    "    predicted[dist1 <= dist2] = -1\n",
    "    accuracy = np.sum(predicted == test_target) / test_target.size\n",
    "    return accuracy\n",
    "\n",
    "\n",
    "\n"
   ]
  },
  {
   "cell_type": "code",
   "execution_count": 173,
   "metadata": {},
   "outputs": [
    {
     "name": "stdout",
     "output_type": "stream",
     "text": [
      "The dimension of training data is  (39073, 123)\n",
      "The dimension of training target is  (39073,)\n",
      "The dimension of testing data is  (9769, 123)\n",
      "The dimension of testing target is  (9769,)\n"
     ]
    }
   ],
   "source": [
    "#80% data for training and 20% for testing \n",
    "num_train = int(0.8 * X.shape[0])\n",
    "num_test = X.shape[0] - num_train\n",
    "\n",
    "train_data = X[:num_train]\n",
    "train_target = Y[:num_train].reshape(num_train)\n",
    "test_data = X[num_train:]\n",
    "test_target = Y[num_train:].reshape(num_test)\n",
    "\n",
    "print(\"The dimension of training data is \", train_data.shape)\n",
    "print(\"The dimension of training target is \", train_target.shape)\n",
    "print(\"The dimension of testing data is \", test_data.shape)\n",
    "print(\"The dimension of testing target is \", test_target.shape)\n",
    "\n"
   ]
  },
  {
   "cell_type": "code",
   "execution_count": 175,
   "metadata": {},
   "outputs": [
    {
     "name": "stdout",
     "output_type": "stream",
     "text": [
      "The accuracy of the classifier is  0.26696693622684\n"
     ]
    }
   ],
   "source": [
    "acc = classifier(train_data, train_target, test_data, test_target)\n",
    "print(\"The accuracy of the classifier is \", acc)"
   ]
  },
  {
   "cell_type": "code",
   "execution_count": 179,
   "metadata": {},
   "outputs": [],
   "source": [
    "accuracies = []\n",
    "for i in range(X.shape[1]):\n",
    "    X_temp = X[:, i]\n",
    "\n",
    "    training_data = X_temp[:num_train].reshape(num_train, 1)\n",
    "    testing_data = X_temp[num_train:].reshape(num_test, 1)\n",
    "\n",
    "    acc = classifier(training_data, train_target, testing_data, test_target)\n",
    "    accuracies.append(acc)"
   ]
  },
  {
   "cell_type": "code",
   "execution_count": 182,
   "metadata": {},
   "outputs": [],
   "source": [
    "indices = np.argsort(accuracies )\n",
    "\n",
    "top_10_features  = indices[-10:]"
   ]
  },
  {
   "cell_type": "code",
   "execution_count": 211,
   "metadata": {},
   "outputs": [],
   "source": [
    "data = X[:, top_10_features]\n"
   ]
  },
  {
   "cell_type": "code",
   "execution_count": 185,
   "metadata": {},
   "outputs": [
    {
     "name": "stdout",
     "output_type": "stream",
     "text": [
      "The accuracy of the classifier using the top 10 features is  0.7614904289077695\n"
     ]
    }
   ],
   "source": [
    "train_data = data[:num_train]\n",
    "test_data = data[num_train:]\n",
    "\n",
    "acc = classifier(train_data, train_target, test_data, test_target)\n",
    "print(\"The accuracy of the classifier using the top 10 features is \", acc)\n"
   ]
  },
  {
   "cell_type": "code",
   "execution_count": 216,
   "metadata": {},
   "outputs": [
    {
     "name": "stdout",
     "output_type": "stream",
     "text": [
      "The accuracy of the classifier using all the features is  0.26696693622684\n",
      "The accuracy of the classifier after removing feature  0  is  0.26696693622684\n",
      "The accuracy of the classifier after removing feature  1  is  0.26696693622684\n",
      "The accuracy of the classifier after removing feature  2  is  0.26696693622684\n",
      "The accuracy of the classifier after removing feature  3  is  0.26696693622684\n",
      "The accuracy of the classifier after removing feature  4  is  0.26696693622684\n",
      "The accuracy of the classifier after removing feature  5  is  0.26696693622684\n",
      "The accuracy of the classifier after removing feature  6  is  0.26696693622684\n",
      "The accuracy of the classifier after removing feature  7  is  0.26696693622684\n",
      "The accuracy of the classifier after removing feature  8  is  0.26696693622684\n",
      "The accuracy of the classifier after removing feature  9  is  0.26696693622684\n",
      "The accuracy of the classifier after removing feature  10  is  0.26696693622684\n",
      "The accuracy of the classifier after removing feature  11  is  0.26696693622684\n",
      "The accuracy of the classifier after removing feature  12  is  0.26696693622684\n",
      "The accuracy of the classifier after removing feature  13  is  0.26696693622684\n",
      "The accuracy of the classifier after removing feature  14  is  0.26696693622684\n",
      "The accuracy of the classifier after removing feature  15  is  0.26696693622684\n",
      "The accuracy of the classifier after removing feature  16  is  0.26696693622684\n",
      "The accuracy of the classifier after removing feature  17  is  0.26696693622684\n",
      "The accuracy of the classifier after removing feature  18  is  0.26696693622684\n",
      "The accuracy of the classifier after removing feature  19  is  0.26696693622684\n",
      "The accuracy of the classifier after removing feature  20  is  0.26696693622684\n",
      "The accuracy of the classifier after removing feature  21  is  0.26696693622684\n",
      "The accuracy of the classifier after removing feature  22  is  0.26696693622684\n",
      "The accuracy of the classifier after removing feature  23  is  0.26696693622684\n",
      "The accuracy of the classifier after removing feature  24  is  0.26696693622684\n",
      "The accuracy of the classifier after removing feature  25  is  0.26696693622684\n",
      "The accuracy of the classifier after removing feature  26  is  0.26696693622684\n",
      "The accuracy of the classifier after removing feature  27  is  0.26696693622684\n",
      "The accuracy of the classifier after removing feature  28  is  0.26696693622684\n",
      "The accuracy of the classifier after removing feature  29  is  0.26696693622684\n",
      "The accuracy of the classifier after removing feature  30  is  0.26696693622684\n",
      "The accuracy of the classifier after removing feature  31  is  0.26696693622684\n",
      "The accuracy of the classifier after removing feature  32  is  0.26696693622684\n",
      "The accuracy of the classifier after removing feature  33  is  0.26696693622684\n",
      "The accuracy of the classifier after removing feature  34  is  0.26696693622684\n",
      "The accuracy of the classifier after removing feature  35  is  0.26696693622684\n",
      "The accuracy of the classifier after removing feature  36  is  0.26696693622684\n",
      "The accuracy of the classifier after removing feature  37  is  0.26696693622684\n",
      "The accuracy of the classifier after removing feature  38  is  0.26696693622684\n",
      "The accuracy of the classifier after removing feature  39  is  0.26696693622684\n",
      "The accuracy of the classifier after removing feature  40  is  0.26696693622684\n",
      "The accuracy of the classifier after removing feature  41  is  0.26696693622684\n",
      "The accuracy of the classifier after removing feature  42  is  0.26696693622684\n",
      "The accuracy of the classifier after removing feature  43  is  0.26696693622684\n",
      "The accuracy of the classifier after removing feature  44  is  0.26696693622684\n",
      "The accuracy of the classifier after removing feature  45  is  0.26696693622684\n",
      "The accuracy of the classifier after removing feature  46  is  0.26696693622684\n",
      "The accuracy of the classifier after removing feature  47  is  0.26696693622684\n",
      "The accuracy of the classifier after removing feature  48  is  0.26696693622684\n",
      "The accuracy of the classifier after removing feature  49  is  0.26696693622684\n",
      "The accuracy of the classifier after removing feature  50  is  0.26696693622684\n",
      "The accuracy of the classifier after removing feature  51  is  0.26696693622684\n",
      "The accuracy of the classifier after removing feature  52  is  0.26696693622684\n",
      "The accuracy of the classifier after removing feature  53  is  0.26696693622684\n",
      "The accuracy of the classifier after removing feature  54  is  0.26696693622684\n",
      "The accuracy of the classifier after removing feature  55  is  0.26696693622684\n",
      "The accuracy of the classifier after removing feature  56  is  0.26696693622684\n",
      "The accuracy of the classifier after removing feature  57  is  0.26696693622684\n",
      "The accuracy of the classifier after removing feature  58  is  0.26696693622684\n",
      "The accuracy of the classifier after removing feature  59  is  0.26696693622684\n",
      "The accuracy of the classifier after removing feature  60  is  0.26696693622684\n",
      "The accuracy of the classifier after removing feature  61  is  0.26696693622684\n",
      "The accuracy of the classifier after removing feature  62  is  0.26696693622684\n",
      "The accuracy of the classifier after removing feature  63  is  0.26696693622684\n",
      "The accuracy of the classifier after removing feature  64  is  0.26696693622684\n",
      "The accuracy of the classifier after removing feature  65  is  0.26696693622684\n",
      "The accuracy of the classifier after removing feature  66  is  0.26696693622684\n",
      "The accuracy of the classifier after removing feature  67  is  0.26696693622684\n",
      "The accuracy of the classifier after removing feature  68  is  0.26696693622684\n",
      "The accuracy of the classifier after removing feature  69  is  0.26696693622684\n",
      "The accuracy of the classifier after removing feature  70  is  0.26696693622684\n",
      "The accuracy of the classifier after removing feature  71  is  0.26696693622684\n",
      "The accuracy of the classifier after removing feature  72  is  0.26696693622684\n",
      "The accuracy of the classifier after removing feature  73  is  0.26696693622684\n",
      "The accuracy of the classifier after removing feature  74  is  0.26696693622684\n",
      "The accuracy of the classifier after removing feature  75  is  0.26696693622684\n",
      "The accuracy of the classifier after removing feature  76  is  0.26696693622684\n",
      "The accuracy of the classifier after removing feature  77  is  0.26696693622684\n",
      "The accuracy of the classifier after removing feature  78  is  0.26696693622684\n",
      "The accuracy of the classifier after removing feature  79  is  0.26696693622684\n",
      "The accuracy of the classifier after removing feature  80  is  0.26696693622684\n",
      "The accuracy of the classifier after removing feature  81  is  0.26696693622684\n",
      "The accuracy of the classifier after removing feature  82  is  0.26696693622684\n",
      "The accuracy of the classifier after removing feature  83  is  0.26696693622684\n",
      "The accuracy of the classifier after removing feature  84  is  0.26696693622684\n",
      "The accuracy of the classifier after removing feature  85  is  0.26696693622684\n",
      "The accuracy of the classifier after removing feature  86  is  0.26696693622684\n",
      "The accuracy of the classifier after removing feature  87  is  0.26696693622684\n",
      "The accuracy of the classifier after removing feature  88  is  0.26696693622684\n",
      "The accuracy of the classifier after removing feature  89  is  0.26696693622684\n",
      "The accuracy of the classifier after removing feature  90  is  0.26696693622684\n",
      "The accuracy of the classifier after removing feature  91  is  0.26696693622684\n",
      "The accuracy of the classifier after removing feature  92  is  0.26696693622684\n",
      "The accuracy of the classifier after removing feature  93  is  0.26696693622684\n",
      "The accuracy of the classifier after removing feature  94  is  0.26696693622684\n",
      "The accuracy of the classifier after removing feature  95  is  0.26696693622684\n",
      "The accuracy of the classifier after removing feature  96  is  0.26696693622684\n",
      "The accuracy of the classifier after removing feature  97  is  0.26696693622684\n",
      "The accuracy of the classifier after removing feature  98  is  0.26696693622684\n",
      "The accuracy of the classifier after removing feature  99  is  0.26696693622684\n",
      "The accuracy of the classifier after removing feature  100  is  0.26696693622684\n",
      "The accuracy of the classifier after removing feature  101  is  0.26696693622684\n",
      "The accuracy of the classifier after removing feature  102  is  0.26696693622684\n",
      "The accuracy of the classifier after removing feature  103  is  0.26696693622684\n",
      "The accuracy of the classifier after removing feature  104  is  0.26696693622684\n",
      "The accuracy of the classifier after removing feature  105  is  0.26696693622684\n",
      "The accuracy of the classifier after removing feature  106  is  0.26696693622684\n",
      "The accuracy of the classifier after removing feature  107  is  0.26696693622684\n",
      "The accuracy of the classifier after removing feature  108  is  0.26696693622684\n",
      "The accuracy of the classifier after removing feature  109  is  0.26696693622684\n",
      "The accuracy of the classifier after removing feature  110  is  0.26696693622684\n",
      "The accuracy of the classifier after removing feature  111  is  0.26696693622684\n",
      "The accuracy of the classifier after removing feature  112  is  0.26696693622684\n",
      "The accuracy of the classifier after removing feature  113  is  0.26696693622684\n",
      "The accuracy of the classifier after removing feature  114  is  0.26696693622684\n",
      "The accuracy of the classifier after removing feature  115  is  0.26696693622684\n",
      "The accuracy of the classifier after removing feature  116  is  0.26696693622684\n",
      "The accuracy of the classifier after removing feature  117  is  0.26696693622684\n",
      "The accuracy of the classifier after removing feature  118  is  0.26696693622684\n",
      "The accuracy of the classifier after removing feature  119  is  0.26696693622684\n",
      "The accuracy of the classifier after removing feature  120  is  0.26696693622684\n",
      "The accuracy of the classifier after removing feature  121  is  0.26696693622684\n",
      "The accuracy of the classifier after removing feature  122  is  0.26696693622684\n"
     ]
    }
   ],
   "source": [
    "eleminated_features = []\n",
    "\n",
    "train_data = X[:num_train]\n",
    "test_data = X[num_train:]\n",
    "\n",
    "max_acc = classifier(train_data, train_target, test_data, test_target)\n",
    "print(\"The accuracy of the classifier using all the features is \", max_acc)\n",
    "\n",
    "for i in range(X.shape[1]):\n",
    "    train_data = X[:, np.setdiff1d(np.arange(X.shape[1]), eleminated_features)][:num_train]\n",
    "    test_data = X[:, np.setdiff1d(np.arange(X.shape[1]), eleminated_features)][num_train:]\n",
    "\n",
    "    acc = classifier(train_data, train_target, test_data, test_target)\n",
    "    print(\"The accuracy of the classifier after removing feature \", i, \" is \", acc)\n",
    "    if acc > max_acc:\n",
    "        max_acc = acc\n",
    "        eleminated_features.append(i)\n",
    "    \n",
    "        \n",
    "    \n",
    "\n",
    "    "
   ]
  },
  {
   "cell_type": "code",
   "execution_count": null,
   "metadata": {},
   "outputs": [],
   "source": []
  },
  {
   "cell_type": "code",
   "execution_count": null,
   "metadata": {},
   "outputs": [],
   "source": []
  },
  {
   "cell_type": "code",
   "execution_count": null,
   "metadata": {},
   "outputs": [],
   "source": []
  }
 ],
 "metadata": {
  "kernelspec": {
   "display_name": "Python 3",
   "language": "python",
   "name": "python3"
  },
  "language_info": {
   "codemirror_mode": {
    "name": "ipython",
    "version": 3
   },
   "file_extension": ".py",
   "mimetype": "text/x-python",
   "name": "python",
   "nbconvert_exporter": "python",
   "pygments_lexer": "ipython3",
   "version": "3.11.1"
  }
 },
 "nbformat": 4,
 "nbformat_minor": 2
}
