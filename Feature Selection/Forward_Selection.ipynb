{
 "cells": [
  {
   "cell_type": "code",
   "execution_count": 13,
   "metadata": {},
   "outputs": [],
   "source": [
    "#import the dna dataset from dna.mat\n",
    "import scipy.io\n",
    "import numpy as np\n",
    "import matplotlib.pyplot as plt\n",
    "import pandas as pd\n"
   ]
  },
  {
   "cell_type": "code",
   "execution_count": 14,
   "metadata": {},
   "outputs": [],
   "source": [
    "data = scipy.io.loadmat('../Datasets/adult.mat')"
   ]
  },
  {
   "cell_type": "code",
   "execution_count": 15,
   "metadata": {},
   "outputs": [],
   "source": [
    "X = data[\"data\"]\n",
    "Y = data[\"target\"]\n"
   ]
  },
  {
   "cell_type": "code",
   "execution_count": 16,
   "metadata": {},
   "outputs": [
    {
     "name": "stdout",
     "output_type": "stream",
     "text": [
      "The dimension of data is  (48842, 123)\n",
      "The number of features in the training data is  123\n",
      "The number of labels in the training data is  2\n"
     ]
    }
   ],
   "source": [
    "print(\"The dimension of data is \", X.shape)\n",
    "print(\"The number of features in the training data is \", X.shape[1])\n",
    "print(\"The number of labels in the training data is \", np.unique(Y).size)"
   ]
  },
  {
   "cell_type": "code",
   "execution_count": 17,
   "metadata": {},
   "outputs": [],
   "source": [
    "def classifier(train_data , train_target , test_data , test_target ):\n",
    "\n",
    "   \n",
    "\n",
    "    \n",
    "\n",
    "    means = []\n",
    "    class_A = train_data[train_target == 1]\n",
    "    class_B = train_data[train_target == -1]\n",
    "\n",
    "    \n",
    "\n",
    "    class_A_mean = np.mean(class_A, axis = 0)\n",
    "    class_B_mean = np.mean(class_B, axis = 0)\n",
    "\n",
    "    means.append(class_A_mean)\n",
    "    means.append(class_B_mean)\n",
    "\n",
    "\n",
    "    \n",
    "\n",
    "    means.append(class_A_mean)\n",
    "    means.append(class_B_mean)\n",
    "\n",
    "    \n",
    "    \n",
    "    \n",
    "    dist1 = np.sqrt(np.sum(np.square(test_data - means[0]), axis = 1)).flatten()\n",
    "    dist2 = np.sqrt(np.sum(np.square(test_data - means[1]), axis = 1)).flatten()\n",
    "\n",
    "    dist1 = np.array(dist1).ravel()\n",
    "    dist2 = np.array(dist2).ravel()\n",
    "\n",
    "    \n",
    "\n",
    "    predicted = np.zeros(test_target.shape)\n",
    "    predicted[dist1 > dist2] = 1\n",
    "    predicted[dist1 <= dist2] = -1\n",
    "    accuracy = np.sum(predicted == test_target) / test_target.size\n",
    "    return accuracy\n",
    "\n",
    "\n",
    "\n"
   ]
  },
  {
   "cell_type": "code",
   "execution_count": 18,
   "metadata": {},
   "outputs": [],
   "source": [
    "X = pd.DataFrame.sparse.from_spmatrix(X)\n"
   ]
  },
  {
   "cell_type": "code",
   "execution_count": 24,
   "metadata": {},
   "outputs": [],
   "source": [
    "Y = pd.DataFrame(Y)\n",
    "Y[Y != 1] = -1"
   ]
  },
  {
   "cell_type": "code",
   "execution_count": 25,
   "metadata": {},
   "outputs": [],
   "source": [
    "num_train = int(0.8 * X.shape[0])\n",
    "\n",
    "train_data = X[:num_train]\n",
    "train_target = Y[:num_train].values.flatten()\n",
    "test_data = X[num_train:]\n",
    "test_target = Y[num_train:].values.flatten()\n"
   ]
  },
  {
   "cell_type": "code",
   "execution_count": 27,
   "metadata": {},
   "outputs": [
    {
     "name": "stdout",
     "output_type": "stream",
     "text": [
      "The accuracy of the classifier is  0.26696693622684\n"
     ]
    }
   ],
   "source": [
    "\n",
    "acc = classifier(train_data.values, train_target, test_data.values, test_target)\n",
    "print(\"The accuracy of the classifier is \", acc)"
   ]
  },
  {
   "cell_type": "code",
   "execution_count": 28,
   "metadata": {},
   "outputs": [],
   "source": [
    "def classifier(train_data , train_target , test_data , test_target ):\n",
    "\n",
    "    means = []\n",
    "    class_A = train_data[train_target == 1]\n",
    "    class_B = train_data[train_target == -1]\n",
    "\n",
    "    class_A_mean = np.mean(class_A, axis = 0)\n",
    "    class_B_mean = np.mean(class_B, axis = 0)\n",
    "\n",
    "    means.append(class_A_mean)\n",
    "    means.append(class_B_mean)\n",
    "\n",
    "\n",
    "\n",
    "    means.append(class_A_mean)\n",
    "    means.append(class_B_mean)\n",
    "\n",
    "   \n",
    "    dist1 = np.sqrt(np.sum(np.square(test_data - means[0]), axis = 1)).flatten()\n",
    "    dist2 = np.sqrt(np.sum(np.square(test_data - means[1]), axis = 1)).flatten()\n",
    "\n",
    "    dist1 = np.array(dist1).ravel()\n",
    "    dist2 = np.array(dist2).ravel()\n",
    "    \n",
    "    predicted = np.zeros(test_target.shape)\n",
    "    predicted[dist1 > dist2] = 1\n",
    "    predicted[dist1 <= dist2] = -1\n",
    "    accuracy = np.sum(predicted == test_target) / test_target.size\n",
    "    return accuracy\n",
    "\n",
    "\n",
    "\n"
   ]
  },
  {
   "cell_type": "code",
   "execution_count": 32,
   "metadata": {},
   "outputs": [
    {
     "name": "stdout",
     "output_type": "stream",
     "text": [
      "The best accuracy is  0.7639471798546422\n",
      "The best features are  [59, 11, 83, 104, 112, 121, 122]\n"
     ]
    }
   ],
   "source": [
    "best_acc = 0 \n",
    "features = []\n",
    "\n",
    "\n",
    "\n",
    "\n",
    "for i in range(1, X.shape[1]):\n",
    "    features.append(i)\n",
    "\n",
    "    train_df = train_data[features]\n",
    "    test_df = test_data[features]\n",
    "\n",
    "    #compare the new feature with exisiting set of features\n",
    "    \n",
    "    acc = classifier(train_df.values, train_target, test_df.values, test_target)\n",
    "    \n",
    "\n",
    "\n",
    "\n",
    "    if (acc < best_acc):\n",
    "        features.pop()\n",
    "    else:\n",
    "        best_acc = acc\n",
    "\n",
    "    #compare the new feature with each feature from the existing set of features\n",
    "    for j in features:\n",
    "        if i!=j:\n",
    "            feature  = [i , j]\n",
    "            train_df = train_data[feature]\n",
    "            test_df = test_data[feature]\n",
    "            acc = classifier(train_df.values, train_target, test_df.values, test_target)\n",
    "\n",
    "            if (acc > best_acc):\n",
    "                best_acc = acc\n",
    "                features = feature\n",
    "\n",
    "        \n",
    "\n",
    "print(\"The best accuracy is \", best_acc)\n",
    "print(\"The best features are \", features)\n",
    "\n",
    "\n"
   ]
  },
  {
   "cell_type": "code",
   "execution_count": null,
   "metadata": {},
   "outputs": [],
   "source": []
  },
  {
   "cell_type": "code",
   "execution_count": null,
   "metadata": {},
   "outputs": [],
   "source": []
  },
  {
   "cell_type": "code",
   "execution_count": null,
   "metadata": {},
   "outputs": [],
   "source": []
  }
 ],
 "metadata": {
  "kernelspec": {
   "display_name": "Python 3",
   "language": "python",
   "name": "python3"
  },
  "language_info": {
   "codemirror_mode": {
    "name": "ipython",
    "version": 3
   },
   "file_extension": ".py",
   "mimetype": "text/x-python",
   "name": "python",
   "nbconvert_exporter": "python",
   "pygments_lexer": "ipython3",
   "version": "3.11.1"
  }
 },
 "nbformat": 4,
 "nbformat_minor": 2
}
