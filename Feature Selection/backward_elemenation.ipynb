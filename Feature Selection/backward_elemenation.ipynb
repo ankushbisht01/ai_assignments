{
 "cells": [
  {
   "cell_type": "code",
   "execution_count": 1,
   "metadata": {},
   "outputs": [],
   "source": [
    "#import the dna dataset from dna.mat\n",
    "import scipy.io\n",
    "import numpy as np\n",
    "import matplotlib.pyplot as plt\n",
    "import pandas as pd\n"
   ]
  },
  {
   "cell_type": "code",
   "execution_count": 13,
   "metadata": {},
   "outputs": [],
   "source": [
    "data = scipy.io.loadmat('../Datasets/Run_or_walk_information.mat')"
   ]
  },
  {
   "cell_type": "code",
   "execution_count": 14,
   "metadata": {},
   "outputs": [],
   "source": [
    "X = data[\"data\"]\n",
    "Y = data[\"target\"]\n"
   ]
  },
  {
   "cell_type": "code",
   "execution_count": 15,
   "metadata": {},
   "outputs": [
    {
     "name": "stdout",
     "output_type": "stream",
     "text": [
      "The dimension of data is  (88588, 6)\n",
      "The number of features in the training data is  6\n",
      "The number of labels in the training data is  2\n"
     ]
    }
   ],
   "source": [
    "print(\"The dimension of data is \", X.shape)\n",
    "print(\"The number of features in the training data is \", X.shape[1])\n",
    "print(\"The number of labels in the training data is \", np.unique(Y).size)"
   ]
  },
  {
   "cell_type": "code",
   "execution_count": 16,
   "metadata": {},
   "outputs": [],
   "source": [
    "def classifier(train_data , train_target , test_data , test_target ):\n",
    "\n",
    "   \n",
    "\n",
    "    \n",
    "\n",
    "    means = []\n",
    "    class_A = train_data[train_target == 1]\n",
    "    class_B = train_data[train_target == -1]\n",
    "\n",
    "    \n",
    "\n",
    "    class_A_mean = np.mean(class_A, axis = 0)\n",
    "    class_B_mean = np.mean(class_B, axis = 0)\n",
    "\n",
    "    means.append(class_A_mean)\n",
    "    means.append(class_B_mean)\n",
    "\n",
    "\n",
    "    \n",
    "\n",
    "    means.append(class_A_mean)\n",
    "    means.append(class_B_mean)\n",
    "\n",
    "    \n",
    "    \n",
    "    \n",
    "    dist1 = np.sqrt(np.sum(np.square(test_data - means[0]), axis = 1)).flatten()\n",
    "    dist2 = np.sqrt(np.sum(np.square(test_data - means[1]), axis = 1)).flatten()\n",
    "\n",
    "    dist1 = np.array(dist1).ravel()\n",
    "    dist2 = np.array(dist2).ravel()\n",
    "\n",
    "    \n",
    "\n",
    "    predicted = np.zeros(test_target.shape)\n",
    "    predicted[dist1 > dist2] = 1\n",
    "    predicted[dist1 <= dist2] = -1\n",
    "    accuracy = np.sum(predicted == test_target) / test_target.size\n",
    "    return accuracy\n",
    "\n",
    "\n",
    "\n"
   ]
  },
  {
   "cell_type": "code",
   "execution_count": 17,
   "metadata": {},
   "outputs": [],
   "source": [
    "try:\n",
    "    X = pd.DataFrame.sparse.from_spmatrix(X)\n",
    "except:\n",
    "    X = pd.DataFrame(X) "
   ]
  },
  {
   "cell_type": "code",
   "execution_count": 18,
   "metadata": {},
   "outputs": [],
   "source": [
    "Y = pd.DataFrame(Y)\n",
    "Y[Y != 1] = -1"
   ]
  },
  {
   "cell_type": "code",
   "execution_count": 23,
   "metadata": {},
   "outputs": [
    {
     "data": {
      "text/html": [
       "<div>\n",
       "<style scoped>\n",
       "    .dataframe tbody tr th:only-of-type {\n",
       "        vertical-align: middle;\n",
       "    }\n",
       "\n",
       "    .dataframe tbody tr th {\n",
       "        vertical-align: top;\n",
       "    }\n",
       "\n",
       "    .dataframe thead th {\n",
       "        text-align: right;\n",
       "    }\n",
       "</style>\n",
       "<table border=\"1\" class=\"dataframe\">\n",
       "  <thead>\n",
       "    <tr style=\"text-align: right;\">\n",
       "      <th></th>\n",
       "      <th>0</th>\n",
       "      <th>1</th>\n",
       "      <th>2</th>\n",
       "      <th>3</th>\n",
       "      <th>4</th>\n",
       "      <th>5</th>\n",
       "    </tr>\n",
       "  </thead>\n",
       "  <tbody>\n",
       "    <tr>\n",
       "      <th>0</th>\n",
       "      <td>1.000000</td>\n",
       "      <td>-0.253617</td>\n",
       "      <td>-0.512271</td>\n",
       "      <td>-0.010354</td>\n",
       "      <td>-0.029814</td>\n",
       "      <td>-0.089632</td>\n",
       "    </tr>\n",
       "    <tr>\n",
       "      <th>1</th>\n",
       "      <td>-0.253617</td>\n",
       "      <td>1.000000</td>\n",
       "      <td>0.129704</td>\n",
       "      <td>0.042318</td>\n",
       "      <td>0.030674</td>\n",
       "      <td>-0.055192</td>\n",
       "    </tr>\n",
       "    <tr>\n",
       "      <th>2</th>\n",
       "      <td>-0.512271</td>\n",
       "      <td>0.129704</td>\n",
       "      <td>1.000000</td>\n",
       "      <td>0.004694</td>\n",
       "      <td>-0.025931</td>\n",
       "      <td>0.028451</td>\n",
       "    </tr>\n",
       "    <tr>\n",
       "      <th>3</th>\n",
       "      <td>-0.010354</td>\n",
       "      <td>0.042318</td>\n",
       "      <td>0.004694</td>\n",
       "      <td>1.000000</td>\n",
       "      <td>0.117023</td>\n",
       "      <td>0.319745</td>\n",
       "    </tr>\n",
       "    <tr>\n",
       "      <th>4</th>\n",
       "      <td>-0.029814</td>\n",
       "      <td>0.030674</td>\n",
       "      <td>-0.025931</td>\n",
       "      <td>0.117023</td>\n",
       "      <td>1.000000</td>\n",
       "      <td>0.234823</td>\n",
       "    </tr>\n",
       "    <tr>\n",
       "      <th>5</th>\n",
       "      <td>-0.089632</td>\n",
       "      <td>-0.055192</td>\n",
       "      <td>0.028451</td>\n",
       "      <td>0.319745</td>\n",
       "      <td>0.234823</td>\n",
       "      <td>1.000000</td>\n",
       "    </tr>\n",
       "  </tbody>\n",
       "</table>\n",
       "</div>"
      ],
      "text/plain": [
       "          0         1         2         3         4         5\n",
       "0  1.000000 -0.253617 -0.512271 -0.010354 -0.029814 -0.089632\n",
       "1 -0.253617  1.000000  0.129704  0.042318  0.030674 -0.055192\n",
       "2 -0.512271  0.129704  1.000000  0.004694 -0.025931  0.028451\n",
       "3 -0.010354  0.042318  0.004694  1.000000  0.117023  0.319745\n",
       "4 -0.029814  0.030674 -0.025931  0.117023  1.000000  0.234823\n",
       "5 -0.089632 -0.055192  0.028451  0.319745  0.234823  1.000000"
      ]
     },
     "execution_count": 23,
     "metadata": {},
     "output_type": "execute_result"
    }
   ],
   "source": [
    "X.corr()\n",
    "#second column and 0th column are highly negatively correlated"
   ]
  },
  {
   "cell_type": "code",
   "execution_count": 24,
   "metadata": {},
   "outputs": [],
   "source": [
    "num_train = int(0.8 * X.shape[0])\n",
    "\n",
    "train_data = X[:num_train]\n",
    "train_target = Y[:num_train].values.flatten()\n",
    "test_data = X[num_train:]\n",
    "test_target = Y[num_train:].values.flatten()\n"
   ]
  },
  {
   "cell_type": "code",
   "execution_count": 25,
   "metadata": {},
   "outputs": [
    {
     "name": "stdout",
     "output_type": "stream",
     "text": [
      "The accuracy of the classifier is  0.40111750761937015\n"
     ]
    }
   ],
   "source": [
    "acc = classifier(train_data.values, train_target, test_data.values, test_target)\n",
    "print(\"The accuracy of the classifier is \", acc)"
   ]
  },
  {
   "cell_type": "code",
   "execution_count": 33,
   "metadata": {},
   "outputs": [
    {
     "name": "stdout",
     "output_type": "stream",
     "text": [
      "The best accuracy is  0.6582571396320126\n",
      "The best features are  Int64Index([0, 3, 4, 5], dtype='int64')\n"
     ]
    }
   ],
   "source": [
    "best_acc = acc \n",
    "features = []\n",
    "\n",
    "for i in range(X.shape[1]):\n",
    "    train_data = X[:num_train].drop(i, axis = 1)\n",
    "    test_data = X[num_train:].drop(i, axis = 1)\n",
    "    acc = classifier(train_data.values, train_target, test_data.values, test_target)\n",
    "    if acc > best_acc:\n",
    "        best_acc = acc\n",
    "        features = train_data.columns\n",
    "\n",
    "    for j in range(i+1, X.shape[1]):\n",
    "        train_data = X[:num_train].drop([i, j], axis = 1)\n",
    "        test_data = X[num_train:].drop([i, j], axis = 1)\n",
    "        acc = classifier(train_data.values, train_target, test_data.values, test_target)\n",
    "        if acc > best_acc:\n",
    "            best_acc = acc\n",
    "            features = train_data.columns\n",
    "\n",
    "    \n",
    "    \n",
    "print(\"The best accuracy is \", best_acc)\n",
    "print(\"The best features are \", features)\n"
   ]
  },
  {
   "cell_type": "code",
   "execution_count": null,
   "metadata": {},
   "outputs": [],
   "source": [
    "#remove "
   ]
  },
  {
   "cell_type": "code",
   "execution_count": null,
   "metadata": {},
   "outputs": [],
   "source": []
  }
 ],
 "metadata": {
  "kernelspec": {
   "display_name": "Python 3",
   "language": "python",
   "name": "python3"
  },
  "language_info": {
   "codemirror_mode": {
    "name": "ipython",
    "version": 3
   },
   "file_extension": ".py",
   "mimetype": "text/x-python",
   "name": "python",
   "nbconvert_exporter": "python",
   "pygments_lexer": "ipython3",
   "version": "3.11.1"
  }
 },
 "nbformat": 4,
 "nbformat_minor": 2
}
